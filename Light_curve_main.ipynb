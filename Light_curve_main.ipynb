{
 "cells": [
  {
   "cell_type": "code",
   "execution_count": 27,
   "id": "9a753683-9645-496d-a3d4-25101df4ce9d",
   "metadata": {},
   "outputs": [],
   "source": [
    "#Importaciones Necesarias\n",
    "from astroquery.gaia import Gaia\n",
    "from astroquery.simbad import Simbad\n",
    "from astropy.coordinates import Angle\n",
    "import astropy.units as u\n",
    "import pandas as pd\n",
    "import os\n",
    "import shutil\n",
    "import subprocess\n",
    "from IPython.display import clear_output\n",
    "import csv\n",
    "from datetime import datetime\n",
    "from astropy.time import Time\n",
    "import matplotlib.pyplot as plt"
   ]
  },
  {
   "cell_type": "code",
   "execution_count": 29,
   "id": "03218e93-0df2-4142-8b51-c3f7dfce41e4",
   "metadata": {},
   "outputs": [],
   "source": [
    "#Se define la función que obtiene la info de Simbad\n",
    "Gaia.ROW_LIMIT = -1 \n",
    "def get_coordinates_from_name(name):\n",
    "    simbad = Simbad()\n",
    "    result = simbad.query_object(name)\n",
    "    if result is not None:\n",
    "        ra = result['ra'][0] \n",
    "        dec = result['dec'][0]\n",
    "        ra_hms = Angle(ra, unit=u.deg).to_string(unit=u.hourangle, sep=':', precision=7)\n",
    "        dec_dms = Angle(dec, unit=u.deg).to_string(unit=u.deg, sep=':', precision=6, alwayssign=True)\n",
    "        \n",
    "        return ra, dec,ra_hms,dec_dms\n",
    "    else:\n",
    "        raise ValueError(f\"No se encontraron coordenadas para el objeto {name}\")\n",
    "        \n",
    "#Se define la función que toma las coordenadas y hace el query en gaia\n",
    "def query_gaia(ra, dec, radius_arcmin=1):\n",
    "    radius_deg = radius_arcmin / 60.0  # Conversión: 1 arcmin = 1/60 grados\n",
    "    try:\n",
    "        # Realizar la consulta en Gaia\n",
    "        job = Gaia.launch_job_async(f\"\"\"\n",
    "            SELECT  ra, dec,source_id\n",
    "            FROM gaiadr2.gaia_source\n",
    "            WHERE CONTAINS(POINT('ICRS', ra, dec), \n",
    "                           CIRCLE('ICRS', {ra}, {dec}, {radius_deg})) = 1\n",
    "        \"\"\")\n",
    "        results = job.get_results()\n",
    "        return results\n",
    "    except Exception as e:\n",
    "        print(\"Error en la consulta:\", e)\n",
    "        return None\n",
    "\n",
    "#Se define la función que guarda los archivos en el csv como catálogo\n",
    "def save_to_csv():\n",
    "    ra, dec,ra_hms,dec_dms= get_coordinates_from_name(object_name)\n",
    "    print(f\"Coordenadas de {object_name} - RA: {ra}°, DEC: {dec}°\")\n",
    "    print(f\"Coordenadas de {object_name} - RA_HMS: {ra_hms}, DEC_DMS: {dec_dms}\")\n",
    "    \n",
    "    results = query_gaia(ra, dec, radius_arcmin=radius_arcmin)\n",
    "    \n",
    "    print(f\"Se hallaron {len(results)} objetos\")\n",
    "    \n",
    "    data = results.to_pandas()\n",
    "    data.to_csv('datos_gaia3edr.csv',index = False, header=False,sep=\" \")\n",
    "    rows, columns = data.shape\n",
    "    "
   ]
  },
  {
   "cell_type": "code",
   "execution_count": 31,
   "id": "bee16a69-a938-4b97-afd0-252e0bb7c11d",
   "metadata": {},
   "outputs": [
    {
     "name": "stdin",
     "output_type": "stream",
     "text": [
      "Ingresa el nombre del objeto:  algol\n",
      "Ingresa el radio de búsqueda en arcominutos:  10\n"
     ]
    },
    {
     "name": "stdout",
     "output_type": "stream",
     "text": [
      "Coordenadas de algol - RA: 47.04221855625°, DEC: 40.95564667027778°\n",
      "Coordenadas de algol - RA_HMS: 3:08:10.1324535, DEC_DMS: +40:57:20.328013\n",
      "INFO: Query finished. [astroquery.utils.tap.core]\n",
      "Se hallaron 1579 objetos\n"
     ]
    }
   ],
   "source": [
    "#Obtención del Catálogo\n",
    "object_name = input(\"Ingresa el nombre del objeto: \")\n",
    "radius_arcmin = float(input(\"Ingresa el radio de búsqueda en arcominutos: \"))\n",
    "save_to_csv()\n"
   ]
  },
  {
   "cell_type": "code",
   "execution_count": 33,
   "id": "5f124655-18bf-477b-8bb1-44c3dae23a9c",
   "metadata": {
    "scrolled": true
   },
   "outputs": [],
   "source": [
    "#Comprobación del directorio de Trabajo, de fallar regersar a la carpeta principal\n",
    "dest_dir =\"./imagenes\"\n",
    "current_dir = os.getcwd()\n",
    "current_folder = os.path.basename(current_dir)\n",
    "if f'./{current_folder}' == dest_dir:\n",
    "    print(f\"Estás dentro de {current_folder}. Saliendo...\")\n",
    "    os.chdir(\"..\") \n",
    "if not os.path.exists(dest_dir):\n",
    "    os.makedirs(dest_dir)\n",
    "    \n",
    "#Definir la función que descarga las imagenes del archivo .sh\n",
    "def ejecutar_curl_desde_archivo(archivo_sh, linea_inicio, linea_final):\n",
    "    with open(archivo_sh, \"r\") as archivo:\n",
    "        for i, linea in enumerate(archivo):\n",
    "            if i < linea_inicio:\n",
    "                continue\n",
    "            if i > linea_final:\n",
    "                break\n",
    "\n",
    "            linea = linea.strip()\n",
    "\n",
    "            print(f\"Imagen {i} de {linea_final}\")\n",
    "            print(f\"Ejecutando: {linea}\")\n",
    "            os.chdir(dest_dir)\n",
    "            try:\n",
    "                result = subprocess.run(linea, shell=True, text=True)\n",
    "            except Exception as e:\n",
    "                print(f\"Error al ejecutar la línea {linea}: {e}\")\n",
    "\n",
    "            os.chdir(\"..\")\n",
    "            clear_output(wait=True)\n",
    "            "
   ]
  },
  {
   "cell_type": "code",
   "execution_count": 41,
   "id": "8f7a4a97-2a7a-4ac0-9a40-3b8808947ec1",
   "metadata": {
    "scrolled": true
   },
   "outputs": [],
   "source": [
    "#Se define la función principal, esta descarga imágenes y las analiza con phot3.py\n",
    "def Descarga_y_analizis(inicio,fin):\n",
    "    dest_dir =\"./imagenes\"\n",
    "    current_dir = os.getcwd()\n",
    "    current_folder = os.path.basename(current_dir)\n",
    "    if f'./{current_folder}' == dest_dir:\n",
    "        print(f\"Estás dentro de {current_folder}. Saliendo...\")\n",
    "        os.chdir(\"..\") \n",
    "    \n",
    "    ejecutar_curl_desde_archivo(\"tesscurl_sector_18_ffic.sh\",inicio, fin)\n",
    "    print(\"Descarga de Imagenes Finalizada\")\n",
    "    print(\"Analizando las imagenes...\")\n",
    "    \n",
    "    result = subprocess.run(\"python phot3.py\", shell=True, capture_output=True, text=True)\n",
    "    print(result.stdout)\n",
    "    print(result.stderr)\n",
    "    \n",
    "    shutil.rmtree(\"./imagenes\")\n",
    "    os.makedirs(\"./imagenes\", exist_ok=True)\n",
    "    print(\"\\nImagenes borradas de la carpeta imagenes, proceso finalizado \")"
   ]
  },
  {
   "cell_type": "code",
   "execution_count": 43,
   "id": "39adc1ce-c28c-42ea-aee0-d124ac6fa484",
   "metadata": {},
   "outputs": [
    {
     "name": "stdout",
     "output_type": "stream",
     "text": [
      "Descarga de Imagenes Finalizada\n",
      "Analizando las imagenes...\n",
      "\n",
      "Su carpeta contiene 2 archivos .fits \n",
      "\n",
      "No. 1: tess2019313022925-s0018-1-2-0162-s_ffic.fits\n",
      "          ....            \n",
      "No. 2: tess2019323052925-s0018-3-2-0162-s_ffic.fits\n",
      "\n",
      " \n",
      " Se obtuvieron 0 archivos .csv\n",
      "Archivos .out almacenados en fits_out\n",
      "Archivos .csv almacenados en csv_out\n",
      "\n",
      "\n",
      "\n",
      "Imagenes borradas de la carpeta imagenes, proceso finalizado \n"
     ]
    }
   ],
   "source": [
    "#Recibe dos argumentos; la linea de inicio y de finalización\n",
    "Descarga_y_analizis(700,701)"
   ]
  },
  {
   "cell_type": "code",
   "execution_count": 45,
   "id": "95e556ed-a77a-4eb0-b70d-bc71d4c3e21e",
   "metadata": {},
   "outputs": [
    {
     "name": "stdout",
     "output_type": "stream",
     "text": [
      "Datos agregados correctamente, actualmente se cuenta con 50 datos\n"
     ]
    }
   ],
   "source": [
    "#Esto lo que hace es analizar los datos csv, y construir las dos listas con los datos a graficar\n",
    "nombre_carpeta = \"csv_out\"\n",
    "directorio = os.getcwd()\n",
    "directorio= os.path.basename(directorio)\n",
    "if not f'{directorio}' == nombre_carpeta:\n",
    "    os.chdir(\"./csv_out\")\n",
    "fechas=[]\n",
    "magnitudes=[]\n",
    "#Proceso de iteración\n",
    "for archivo in os.listdir(\"./\"):\n",
    "        with open(archivo, mode='r', newline='', encoding='utf-8') as archivo_csv:\n",
    "            lector = csv.reader(archivo_csv)\n",
    "            for fila in lector:\n",
    "                if fila[0] == '239863001382455424': #Definir id de simbad del objeto\n",
    "                    fechas.append(fila[5])\n",
    "                    magnitudes.append(float(fila[3]))\n",
    "\n",
    "print(f\"Datos agregados correctamente, actualmente se cuenta con {len(magnitudes)} datos\")\n",
    "os.chdir(\"..\")\n"
   ]
  },
  {
   "cell_type": "code",
   "execution_count": 47,
   "id": "31980613-f214-44d0-821d-c15895359555",
   "metadata": {},
   "outputs": [
    {
     "data": {
      "image/png": "[encoded data removed]",
      "text/plain": [
       "<Figure size 800x400 with 1 Axes>"
      ]
     },
     "metadata": {},
     "output_type": "display_data"
    }
   ],
   "source": [
    "#La gráfica no habria que mover nada aquí\n",
    "fechas_clean = [Time(f, format='isot', scale='utc').jd for f in fechas]\n",
    "fechas_clean_2 = [datetime.strptime(f, \"%Y-%m-%dT%H:%M:%S.%f\") for f in fechas]\n",
    "\n",
    "flujos=[]\n",
    "for i in magnitudes:\n",
    "    flujos.append(10**(-i/2.5))\n",
    "\n",
    "plt.rcParams.update({\n",
    "    'axes.facecolor': '#121212',  # Fondo del área del gráfico (gris oscuro)\n",
    "    'figure.facecolor': '#121212',  # Fondo de la figura (gris oscuro)\n",
    "    'font.family': 'Arial',  # Fuente\n",
    "    'font.size': 10 ,  # Tamaño de la fuente\n",
    "    'axes.labelcolor': 'white',  # Color de las etiquetas de los ejes (blanco)\n",
    "    'xtick.color': 'white',  # Color de las etiquetas en el eje X (blanco)\n",
    "    'ytick.color': 'white',  # Color de las etiquetas en el eje Y (blanco)\n",
    "    'axes.edgecolor': 'white',  # Color de los bordes del gráfico (blanco)\n",
    "    'grid.color': '#404040',  # Color de la cuadrícula (gris claro)\n",
    "    'grid.linestyle': '--',  # Estilo de la cuadrícula (líneas discontinuas)\n",
    "    'grid.alpha': 0.3,  # Transparencia de la cuadrícula (más suave)\n",
    "    'lines.color': 'cyan',  # Color de las líneas (cian brillante)\n",
    "    'lines.linewidth': 2,  # Ancho de las líneas\n",
    "    'axes.titlecolor': 'white',  # Color del título de los ejes (blanco)\n",
    "})\n",
    "\n",
    "alto,ancho=4,8\n",
    "plt.figure(figsize=(ancho, alto))  \n",
    "plt.plot(fechas_clean[:], flujos[:], marker='o', linestyle='-', color=\"white\",markerfacecolor='none', linewidth=1)\n",
    "plt.xlabel(\"Tiempo Juliano\",fontsize=10,labelpad=20)\n",
    "plt.ylabel(\"Flujo\",fontsize=10,labelpad=20) \n",
    "plt.title(f\"----------------Curva de luz para {object_name}----------------\".upper(), fontsize=10,pad=10)\n",
    "\n",
    "plt.show()\n"
   ]
  },
  {
   "cell_type": "code",
   "execution_count": null,
   "id": "3f53dbdd-e1b7-4227-b9a4-102bdfd1201b",
   "metadata": {},
   "outputs": [],
   "source": []
  }
 ],
 "metadata": {
  "kernelspec": {
   "display_name": "Python 3 (ipykernel)",
   "language": "python",
   "name": "python3"
  },
  "language_info": {
   "codemirror_mode": {
    "name": "ipython",
    "version": 3
   },
   "file_extension": ".py",
   "mimetype": "text/x-python",
   "name": "python",
   "nbconvert_exporter": "python",
   "pygments_lexer": "ipython3",
   "version": "3.12.7"
  }
 },
 "nbformat": 4,
 "nbformat_minor": 5
}
