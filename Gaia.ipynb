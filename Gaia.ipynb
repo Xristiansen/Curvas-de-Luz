{
 "cells": [
  {
   "cell_type": "markdown",
   "id": "d366d990-cc74-4236-b028-9e0f9d451019",
   "metadata": {},
   "source": [
    "Esta primera celda, pide el nombre y el radio en arcominutos, se deja ejecutar y habrá descargado el catalogo de gaia asociado. Para que toda esta madre funcione, hay que meter dentro de una misma carpeta este codigo, el codigo de phot3.py y el archivo bash que se descarga desde tess, no hay que moverle en teoria nada a ninguno.\n",
    "Lo único capaz, esque los directorios no esten funcionando, pero mientras todo esté en la misma carpeta deberia funcionar."
   ]
  },
  {
   "cell_type": "code",
   "execution_count": 11,
   "id": "03218e93-0df2-4142-8b51-c3f7dfce41e4",
   "metadata": {},
   "outputs": [
    {
     "name": "stdin",
     "output_type": "stream",
     "text": [
      "Ingresa el nombre del objeto:  algol\n",
      "Ingresa el radio de búsqueda en arcominutos:  10\n"
     ]
    },
    {
     "name": "stdout",
     "output_type": "stream",
     "text": [
      "Coordenadas de algol - RA: 47.04221855625°, DEC: 40.95564667027778°\n",
      "Coordenadas de algol - RA_HMS: 3:08:10.1324535, DEC_DMS: +40:57:20.328013\n",
      "INFO: Query finished. [astroquery.utils.tap.core]\n",
      "INFO: Query finished. [astroquery.utils.tap.core]\n",
      " ra dec source_id\n",
      "deg deg          \n",
      "--- --- ---------\n",
      "Se hallaron 1579 objetos\n"
     ]
    }
   ],
   "source": [
    "from astroquery.gaia import Gaia\n",
    "from astroquery.simbad import Simbad\n",
    "from astropy.coordinates import Angle\n",
    "import astropy.units as u\n",
    "import pandas as pd\n",
    "import os\n",
    "\n",
    "\n",
    "Gaia.ROW_LIMIT = -1 \n",
    "\n",
    "def get_coordinates_from_name(name):\n",
    "    \"\"\"\n",
    "    Obtiene las coordenadas RA y DEC de un objeto por su nombre usando Simbad.\n",
    "    \"\"\"\n",
    "    simbad = Simbad()\n",
    "    result = simbad.query_object(name)\n",
    "    if result is not None:\n",
    "        ra = result['ra'][0]  # RA en formato horas y minutos\n",
    "        dec = result['dec'][0]  # DEC en grados\n",
    "        ra_hms = Angle(ra, unit=u.deg).to_string(unit=u.hourangle, sep=':', precision=7)\n",
    "        dec_dms = Angle(dec, unit=u.deg).to_string(unit=u.deg, sep=':', precision=6, alwayssign=True)\n",
    "        \n",
    "        return ra, dec,ra_hms,dec_dms\n",
    "    else:\n",
    "        raise ValueError(f\"No se encontraron coordenadas para el objeto {name}\")\n",
    "\n",
    "def query_gaia(ra, dec, radius_arcmin=1):\n",
    "    \"\"\"\n",
    "    Consulta Gaia para obtener los objetos alrededor de las coordenadas dadas.\n",
    "    Convierte el radio de arcominutos a grados.\n",
    "    \"\"\"\n",
    "    # Convertir radio de arcominutos a grados\n",
    "    radius_deg = radius_arcmin / 60.0  # Conversión: 1 arcmin = 1/60 grados\n",
    "\n",
    "    try:\n",
    "        # Realizar la consulta en Gaia\n",
    "        job = Gaia.launch_job_async(f\"\"\"\n",
    "            SELECT  ra, dec,source_id\n",
    "            FROM gaiadr2.gaia_source\n",
    "            WHERE CONTAINS(POINT('ICRS', ra, dec), \n",
    "                           CIRCLE('ICRS', {ra}, {dec}, {radius_deg})) = 1\n",
    "        \"\"\")\n",
    "        results = job.get_results()\n",
    "        job2 = Gaia.launch_job_async(f\"\"\"\n",
    "        SELECT ra, dec, source_id\n",
    "         FROM gaiadr2.gaia_source\n",
    "        WHERE ra = {ra} AND dec = {dec}\n",
    "        \"\"\")\n",
    "\n",
    "# Obtener los resultados de la consulta\n",
    "        results2 = job2.get_results()\n",
    "        print(results2)\n",
    "        return results\n",
    "    except Exception as e:\n",
    "        print(\"Error en la consulta:\", e)\n",
    "        return None\n",
    "\n",
    "# Ingresar nombre del objeto\n",
    "object_name = input(\"Ingresa el nombre del objeto: \")\n",
    "\n",
    "# Ingresar el radio en arcominutos\n",
    "radius_arcmin = float(input(\"Ingresa el radio de búsqueda en arcominutos: \"))\n",
    "\n",
    "# Ingresar la ruta donde se guardará el archivo Excel\n",
    "#file_path = input(\"Ingresa la ruta completa donde deseas guardar el archivo Excel (ejemplo: C:/Users/usuario/Documentos/gaia_results.xlsx): \")\n",
    "\n",
    "\n",
    "    # Obtener coordenadas RA y DEC del objeto usando Simbad\n",
    "def save_to_csv():\n",
    "    ra, dec,ra_hms,dec_dms= get_coordinates_from_name(object_name)\n",
    "    print(f\"Coordenadas de {object_name} - RA: {ra}°, DEC: {dec}°\")\n",
    "    print(f\"Coordenadas de {object_name} - RA_HMS: {ra_hms}, DEC_DMS: {dec_dms}\")\n",
    "    # Realizar la consulta en Gaia\n",
    "    results = query_gaia(ra, dec, radius_arcmin=radius_arcmin)\n",
    "    # Guardar los resultados en el archivo Excel\n",
    "    print(f\"Se hallaron {len(results)} objetos\")\n",
    "    data = results.to_pandas()\n",
    "    data.to_csv('datos_gaia3edr.csv',index = False, header=False,sep=\" \")\n",
    "    rows, columns = data.shape\n",
    "  \n",
    "save_to_csv()\n"
   ]
  },
  {
   "cell_type": "code",
   "execution_count": null,
   "id": "8bc8be57-eb15-4b07-b42c-d9945c604752",
   "metadata": {},
   "outputs": [],
   "source": [
    "Esto siguiente es solamente una definición de una función, no hay que mover nada, si da problemas crear la carpeta imagenes a mano"
   ]
  },
  {
   "cell_type": "code",
   "execution_count": 360,
   "id": "5f124655-18bf-477b-8bb1-44c3dae23a9c",
   "metadata": {
    "scrolled": true
   },
   "outputs": [
    {
     "name": "stdout",
     "output_type": "stream",
     "text": [
      "Descarga de Imagenes Finalizada\n"
     ]
    }
   ],
   "source": [
    "import os\n",
    "import subprocess\n",
    "from IPython.display import clear_output\n",
    " \n",
    "dest_dir =\"./imagenes\"\n",
    "current_dir = os.getcwd()\n",
    "current_folder = os.path.basename(current_dir)\n",
    "print(current_dir)\n",
    "if f'./{current_folder}' == dest_dir:\n",
    "    print(f\"Estás dentro de {current_folder}. Saliendo...\")\n",
    "    os.chdir(\"..\") \n",
    "\n",
    "if not os.path.exists(dest_dir):\n",
    "    os.makedirs(dest_dir)\n",
    "\n",
    "def ejecutar_curl_desde_archivo(archivo_sh, linea_inicio, linea_final):\n",
    "    # Cambiar al directorio de destino una sola vez\n",
    "\n",
    "    with open(archivo_sh, \"r\") as archivo:\n",
    "        for i, linea in enumerate(archivo):\n",
    "            if i < linea_inicio:  # Saltar líneas antes del inicio\n",
    "                continue\n",
    "            if i > linea_final:  # Terminar después de la línea final\n",
    "                break\n",
    "\n",
    "            linea = linea.strip()  # Eliminar espacios innecesarios\n",
    "\n",
    "            # Imprimir qué comando se ejecutará\n",
    "            print(f\"Imagen {i} de {linea_final}\")\n",
    "            print(f\"Ejecutando: {linea}\")\n",
    "            os.chdir(dest_dir)\n",
    "            try:\n",
    "                # Ejecutar el comando y esperar que termine\n",
    "                result = subprocess.run(linea, shell=True, text=True)\n",
    "            except Exception as e:\n",
    "                print(f\"Error al ejecutar la línea {linea}: {e}\")\n",
    "\n",
    "    # Volver al directorio original\n",
    "            os.chdir(\"..\")\n",
    "            clear_output(wait=True)\n",
    "# Llamar a la función con el nombre del archivo .sh, el directorio de destino y el número de líneas"
   ]
  },
  {
   "cell_type": "markdown",
   "id": "ee162c95-7260-4653-96f7-1e0b2ce0b8a9",
   "metadata": {},
   "source": [
    "Este es el loop principal, define una función que inicia en una linea y finaliza en otra del bash, eso en esencia es elegir desde que imagen a que imagen se va a descargar.\n",
    "Esas imagenes se analizan con phot3.py,se generan dos carpetas, la importante es csv_out, ahi esta lo que interesa, una vez se analicen todas las que uno pone a descargar las fits se borran, entonces es importante no borrar los archivos de csv_out."
   ]
  },
  {
   "cell_type": "code",
   "execution_count": 404,
   "id": "8f7a4a97-2a7a-4ac0-9a40-3b8808947ec1",
   "metadata": {
    "scrolled": true
   },
   "outputs": [],
   "source": [
    "import os\n",
    "import subprocess\n",
    "import warnings\n",
    "from astropy.wcs import FITSFixedWarning\n",
    "#os.chdir(\"..\")\n",
    "def Descarga_y_analizis(inicio,fin):\n",
    "    ejecutar_curl_desde_archivo(\"tesscurl_sector_18_ffic.sh\",inicio, fin)\n",
    "    print(\"Descarga de Imagenes Finalizada\")\n",
    "    # Ejecutar phot.py y pasar el directorio como argumento\n",
    "    result = subprocess.run(\"python phot3.py\", shell=True, capture_output=True, text=True)\n",
    "\n",
    "    # Mostrar salida para verificar si hay algún error\n",
    "    print(result.stdout)\n",
    "    print(result.stderr)\n",
    "    warnings.simplefilter('ignore', FITSFixedWarning)\n",
    "    shutil.rmtree(\"./imagenes\")\n",
    "    os.makedirs(\"./imagenes\", exist_ok=True)\n",
    "    # Listar todos los archivos y carpetas dentro de la carpeta\n"
   ]
  },
  {
   "cell_type": "code",
   "execution_count": null,
   "id": "39adc1ce-c28c-42ea-aee0-d124ac6fa484",
   "metadata": {},
   "outputs": [
    {
     "name": "stdout",
     "output_type": "stream",
     "text": [
      "Imagen 377 de 400\n",
      "Ejecutando: curl -C - -L -o tess2019327142925-s0018-1-4-0162-s_ffic.fits https://mast.stsci.edu/api/v0.1/Download/file/?uri=mast:TESS/product/tess2019327142925-s0018-1-4-0162-s_ffic.fits\n"
     ]
    }
   ],
   "source": [
    "#La función se ejecuta tal que así, tan pronto termine debe mostrar un mensaje de: proceso completado\n",
    "Descarga_y_analizis(300,400)"
   ]
  },
  {
   "cell_type": "code",
   "execution_count": 398,
   "id": "95e556ed-a77a-4eb0-b70d-bc71d4c3e21e",
   "metadata": {},
   "outputs": [
    {
     "name": "stdout",
     "output_type": "stream",
     "text": [
      "Encontrado en \n",
      "DATAOUT_1791.005370569031.csv: \n",
      "['239863001382455424', '47.04222797272186', '40.95564357022187', '3.2517416', '0.00022212354', '2019-11-03T12:06:34.833']\n",
      "Encontrado en \n",
      "DATAOUT_1791.088706473518.csv: \n",
      "['239863001382455424', '47.04222797272186', '40.95564357022187', '3.4399756', '0.00025096006', '2019-11-03T14:06:35.055']\n",
      "Encontrado en \n",
      "DATAOUT_1800.422220475708.csv: \n",
      "['239863001382455424', '47.04222797272186', '40.95564357022187', '3.1059577', '0.00023870759', '2019-11-12T22:06:50.665']\n",
      "Encontrado en \n",
      "DATAOUT_1807.234781549727.csv: \n",
      "['239863001382455424', '47.04222797272186', '40.95564357022187', '3.1093107', '0.00020465933', '2019-11-19T17:36:55.942']\n",
      "Encontrado en \n",
      "DATAOUT_1813.234755695627.csv: \n",
      "['239863001382455424', '47.04222797272186', '40.95564357022187', '3.1099894', '0.00022255884', '2019-11-25T17:36:53.708']\n",
      "Encontrado en \n",
      "DATAOUT_1813.359754455474.csv: \n",
      "['239863001382455424', '47.04222797272186', '40.95564357022187', '3.1040052', '0.000227527', '2019-11-25T20:36:53.601']\n"
     ]
    }
   ],
   "source": [
    "#Esta celñda lo que hace es buscar en la carpeta csv_out el codigo en este caso para algol, es eñ nombre del catalogo que da simbad,para gaia dr2\n",
    "import os\n",
    "import csv\n",
    "nombre_carpeta = \"csv_out\"\n",
    "\n",
    "# Obtiene el directorio actual de trabajo\n",
    "directorio = os.getcwd()\n",
    "directorio= os.path.basename(directorio)\n",
    "if not f'{directorio}' == nombre_carpeta:\n",
    "    os.chdir(\"./csv_out\")\n",
    "fechas=[]\n",
    "magnitudes=[]\n",
    "for archivo in os.listdir(\"./\"):\n",
    "        with open(archivo, mode='r', newline='', encoding='utf-8') as archivo_csv:\n",
    "            lector = csv.reader(archivo_csv)\n",
    "            # Iterar sobre las filas del CSV\n",
    "            for fila in lector:\n",
    "                # Acceder a cada campo en la fila\n",
    "                # Si buscas un contenido específico, por ejemplo, en la primera columna\n",
    "                if fila[0] == '239863001382455424':\n",
    "                    print(f\"Encontrado en \\n{archivo}: \\n{fila}\")\n",
    "                    fechas.append(fila[5])\n",
    "                    magnitudes.append(fila[3])\n"
   ]
  },
  {
   "cell_type": "code",
   "execution_count": 400,
   "id": "4a14dbe8-b815-4564-81a5-e5a090fee94a",
   "metadata": {},
   "outputs": [
    {
     "data": {
      "text/plain": [
       "[<matplotlib.lines.Line2D at 0x19643680620>]"
      ]
     },
     "execution_count": 400,
     "metadata": {},
     "output_type": "execute_result"
    },
    {
     "data": {
      "image/png": "[encoded data removed]",
      "text/plain": [
       "<Figure size 640x480 with 1 Axes>"
      ]
     },
     "metadata": {},
     "output_type": "display_data"
    }
   ],
   "source": [
    "import matplotlib.pyplot as plt\n",
    "plt.plot(fechas,magnitudes)"
   ]
  },
  {
   "cell_type": "code",
   "execution_count": 378,
   "id": "31980613-f214-44d0-821d-c15895359555",
   "metadata": {},
   "outputs": [],
   "source": [
    "import shutil\n",
    "shutil.rmtree(\"./imagenes\")\n",
    "os.makedirs(\"./imagenes\", exist_ok=True)"
   ]
  },
  {
   "cell_type": "code",
   "execution_count": null,
   "id": "e1ea7d89-7310-49aa-a4ce-e2432a688450",
   "metadata": {},
   "outputs": [],
   "source": []
  }
 ],
 "metadata": {
  "kernelspec": {
   "display_name": "Python 3 (ipykernel)",
   "language": "python",
   "name": "python3"
  },
  "language_info": {
   "codemirror_mode": {
    "name": "ipython",
    "version": 3
   },
   "file_extension": ".py",
   "mimetype": "text/x-python",
   "name": "python",
   "nbconvert_exporter": "python",
   "pygments_lexer": "ipython3",
   "version": "3.12.7"
  }
 },
 "nbformat": 4,
 "nbformat_minor": 5
}
