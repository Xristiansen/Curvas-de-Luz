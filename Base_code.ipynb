{
 "cells": [
  {
   "cell_type": "code",
   "execution_count": 9,
   "id": "70595bcb",
   "metadata": {},
   "outputs": [],
   "source": [
    "#Importaciones Necesarias\n",
    "#setx CURL_SSL_NO_REVOKE 1\n",
    "#setx CURL_SSL_NO_REVOKE \"\"\n",
    "\n",
    "from astroquery.gaia import Gaia\n",
    "from astroquery.simbad import Simbad\n",
    "from astropy.coordinates import Angle\n",
    "import astropy.units as u\n",
    "import pandas as pd\n",
    "import os\n",
    "import shutil\n",
    "import subprocess\n",
    "from IPython.display import clear_output\n",
    "import csv\n",
    "from datetime import datetime\n",
    "from astropy.time import Time\n",
    "import matplotlib.pyplot as plt\n",
    "from astroquery.mast import Tesscut\n",
    "from scipy.signal import periodogram\n",
    "import numpy as np\n",
    "import requests\n",
    "from concurrent.futures import ThreadPoolExecutor\n",
    "from rich.progress import Progress, BarColumn, TextColumn, TimeRemainingColumn\n",
    "from astropy.timeseries import LombScargle"
   ]
  },
  {
   "cell_type": "code",
   "execution_count": 11,
   "id": "5f6e7d3d",
   "metadata": {},
   "outputs": [],
   "source": [
    "#Creación de directorios\n",
    "os.makedirs(\"./objt_out\", exist_ok=True)\n",
    "os.makedirs(\"./csv_out\", exist_ok=True)\n",
    "os.makedirs(\"./imagenes\", exist_ok=True)\n"
   ]
  },
  {
   "cell_type": "code",
   "execution_count": 334,
   "id": "5de35899",
   "metadata": {},
   "outputs": [],
   "source": [
    "#Se define la función que obtiene la info de Simbad\n",
    "Gaia.ROW_LIMIT = -1 \n",
    "Ra,Dec=0,0\n",
    "tiempo=[]\n",
    "magnitud=[]\n",
    "sector_seleccionado=0\n",
    "gaia_id=0\n",
    "object_name=\"a\"\n",
    "def get_coordinates_from_name(name):\n",
    "    simbad = Simbad()\n",
    "    result = simbad.query_object(name)\n",
    "    if result is not None:\n",
    "        ra = result['ra'][0] \n",
    "        dec = result['dec'][0]\n",
    "        ra_hms = Angle(ra, unit=u.deg).to_string(unit=u.hourangle, sep=':', precision=7)\n",
    "        dec_dms = Angle(dec, unit=u.deg).to_string(unit=u.deg, sep=':', precision=6, alwayssign=True)\n",
    "        global Ra\n",
    "        global Dec \n",
    "        Dec = dec\n",
    "        Ra = ra\n",
    "        return ra, dec,ra_hms,dec_dms\n",
    "    else:\n",
    "        raise ValueError(f\"No se encontraron coordenadas para el objeto {name}\")\n",
    "        \n",
    "#Se define la función que toma las coordenadas y hace el query en gaia\n",
    "def query_gaia(ra, dec, radius_arcmin=1):\n",
    "    radius_deg = radius_arcmin / 60.0  # Conversión: 1 arcmin = 1/60 grados\n",
    "    try:\n",
    "        # Realizar la consulta en Gaia\n",
    "        job = Gaia.launch_job_async(f\"\"\"\n",
    "            SELECT  ra, dec,source_id\n",
    "            FROM gaiadr2.gaia_source\n",
    "            WHERE CONTAINS(POINT('ICRS', ra, dec), \n",
    "                           CIRCLE('ICRS', {ra}, {dec}, {radius_deg})) = 1\n",
    "        \"\"\")\n",
    "        results = job.get_results()\n",
    "        return results\n",
    "    except Exception as e:\n",
    "        print(\"Error en la consulta:\", e)\n",
    "        return None\n",
    "        \n",
    "#Obtener el ID de gaia\n",
    "def gaia_ids():\n",
    "    Simbad.add_votable_fields(\"ids\")\n",
    "    result = Simbad.query_object(object_name)\n",
    "    if result is not None:\n",
    "        ids = result[\"ids\"][0].split(\"|\")\n",
    "        for id_ in ids:\n",
    "            if \"Gaia DR2\" in id_:\n",
    "                global gaia_id\n",
    "                gaia_id = int(id_.replace(\"Gaia DR2 \", \"\"))\n",
    "                print(f\"🔍 Gaia DR2 ID de {object_name}: {gaia_id}\")        \n",
    "    else:\n",
    "        return f\"No se encontró el objeto '{object_name}' en Simbad.\"\n",
    "\n",
    "#Se define la función que guarda los archivos en el csv como catálogo\n",
    "def obtener_catalogo():\n",
    "    ra, dec,ra_hms,dec_dms= get_coordinates_from_name(object_name)\n",
    "    print(f\"Coordenadas de {object_name} - RA: {ra}°, DEC: {dec}°\")\n",
    "    print(f\"Coordenadas de {object_name} - RA_HMS: {ra_hms}, DEC_DMS: {dec_dms}\")\n",
    "    \n",
    "    results = query_gaia(ra, dec, radius_arcmin=radius_arcmin)\n",
    "    \n",
    "    print(f\"Se hallaron {len(results)} objetos\")\n",
    "    print(f\"✅ Catálogo descargado\")\n",
    "    data = results.to_pandas()\n",
    "    data.to_csv(f'catalogo_gaiadr2.csv',index = False, header=False,sep=\" \")\n",
    "    rows, columns = data.shape\n",
    "    "
   ]
  },
  {
   "cell_type": "code",
   "execution_count": 335,
   "id": "3b8c31b2",
   "metadata": {},
   "outputs": [],
   "source": [
    "def Definir_sector():\n",
    "    print(f\"Para el objeto {object_name} se tienen los sectores:\")\n",
    "    sectors = Tesscut.get_sectors(objectname=object_name)\n",
    "    print(f\"\\n{sectors}\\n\")\n",
    "    global sector_seleccionado\n",
    "    sector_seleccionado = input(\"Ingrese el sector a analizar:\")\n",
    "    catalogo_sector= f\"tesscurl_sector_{sector_seleccionado}_ffic.sh\"\n",
    "    \n",
    "    if catalogo_sector in os.listdir(\".\"):\n",
    "        print(f\"✅ Archivo .sh del sector listo\")\n",
    "    else:\n",
    "        print(f\"El Archivo .sh del sector {sector_seleccionado} no se encuentra en la carpeta {os.path.basename(os.getcwd())}\")\n",
    "        url = f\"https://archive.stsci.edu/missions/tess/download_scripts/sector/tesscurl_sector_{sector_seleccionado}_ffic.sh\"\n",
    "        print(f\"Se procede a descargarlo...\")\n",
    "        carpeta_destino = os.getcwd() \n",
    "        nombre_archivo = f\"tesscurl_sector_{sector_seleccionado}_ffic.sh\"\n",
    "        ruta_completa = os.path.join(carpeta_destino, nombre_archivo)\n",
    "        response = requests.get(url)\n",
    "        \n",
    "        if response.status_code == 200:\n",
    "            with open(ruta_completa, \"wb\") as file:\n",
    "                file.write(response.content)\n",
    "            print(f\"✅ Archivo descargado en: {ruta_completa}\")\n",
    "        else:\n",
    "            print(f\"❌ Error\")\n",
    "    with open(f\"tesscurl_sector_{sector_seleccionado}_ffic.sh\", \"rb\") as archivo:  # Modo binario para mayor velocidad\n",
    "        print(f\"Es posible descargar {sum(1 for _ in archivo)} imágenes del sector {sector_seleccionado}\")"
   ]
  },
  {
   "cell_type": "code",
   "execution_count": 336,
   "id": "6911a6fb",
   "metadata": {
    "scrolled": true
   },
   "outputs": [],
   "source": [
    "#Comprobación del directorio de Trabajo, de fallar regersar a la carpeta principal\n",
    "dest_dir =\"./imagenes\"\n",
    "current_dir = os.getcwd()\n",
    "current_folder = os.path.basename(current_dir)\n",
    "if f'./{current_folder}' == dest_dir:\n",
    "    print(f\"Estás dentro de {current_folder}. Saliendo...\")\n",
    "    os.chdir(\"..\") \n",
    "\n",
    "def verificar_archivo(archivo_fits, tamaño_esperado=17775360):\n",
    "    \"\"\"Devuelve True si el archivo existe y tiene el tamaño esperado, False si está corrupto o incompleto.\"\"\"\n",
    "    return os.path.exists(archivo_fits) and os.path.getsize(archivo_fits) >= tamaño_esperado\n",
    "\n",
    "def descargar_imagen(linea, progress, task):\n",
    "    \"\"\"Descarga la imagen y actualiza la barra de progreso.\"\"\"\n",
    "    nombre_archivo = linea.split(\"/\")[-1] if \"http\" in linea else None\n",
    "    ruta_destino = os.path.join(\"./imagenes\", nombre_archivo) if nombre_archivo else None\n",
    "\n",
    "    proceso = subprocess.run(f\"{linea} -o {ruta_destino}\", shell=True, stdout=subprocess.DEVNULL, stderr=subprocess.DEVNULL, cwd=\"./imagenes\")\n",
    "\n",
    "    progress.update(task, advance=1)  # ✅ La barra avanza en cada intento de descarga\n",
    "\n",
    "    if verificar_archivo(ruta_destino):\n",
    "        return None  # Descarga exitosa\n",
    "    else:\n",
    "        return nombre_archivo  # Devuelve el nombre si falló\n",
    "\n",
    "def ejecutar_curl_desde_archivo(archivo_sh, linea_inicio, linea_final):\n",
    "    \"\"\"Ejecuta descargas en paralelo con barra de progreso y devuelve solo archivos que fallaron.\"\"\"\n",
    "    with open(archivo_sh, \"r\") as archivo:\n",
    "        lineas = [linea.strip() for i, linea in enumerate(archivo) if linea_inicio <= i < linea_final]  # 🔹 `-1` se maneja con `<`\n",
    "\n",
    "    max_workers = min(10, os.cpu_count())  # Limita las descargas simultáneas\n",
    "\n",
    "    with Progress(\n",
    "        TextColumn(f\"[bold cyan][{linea_inicio} a {linea_final}]⏳Descargando...\"),\n",
    "        BarColumn(bar_width=25, style=\"white\", complete_style=\"bright_cyan\", finished_style=\"bright_cyan\"),\n",
    "        TextColumn(\"[bold cyan]{task.percentage:>3.0f}%\"),\n",
    "        TimeRemainingColumn(),\n",
    "    ) as progress:\n",
    "        task = progress.add_task(\"\", total=len(lineas))  # ✅ Asegurar que total es correcto\n",
    "\n",
    "        with ThreadPoolExecutor(max_workers=max_workers) as executor:\n",
    "            errores = list(filter(None, executor.map(lambda l: descargar_imagen(l, progress, task), lineas)))\n",
    "    clear_output(wait=True)\n",
    "    return errores  # Devuelve solo los archivos que fallaron\n",
    "\n",
    "            "
   ]
  },
  {
   "cell_type": "code",
   "execution_count": 337,
   "id": "42fb676a",
   "metadata": {
    "scrolled": true
   },
   "outputs": [],
   "source": [
    "#Se define la función principal, esta descarga imágenes y las analiza con phot3.py\n",
    "def Descarga_y_analizis():\n",
    "    cargar_checkpoint()\n",
    "    inicio = int(input(\"Imagen de inicio\"))\n",
    "    porciclo =  int(input(\"Imagenes por ciclo\"))\n",
    "    ciclos = int(input(f\"Cuantos ciclos de {porciclo} imagenes\"))\n",
    "    print(f\"\\nSe descargaran {porciclo} imagenes por ciclo, se necesitan ~{(porciclo)*34}mb cada vez\")\n",
    "    switch= input(\"continuar? [y/n]\")\n",
    "    if switch==\"y\":\n",
    "        for i in range(ciclos):\n",
    "            dest_dir =\"./imagenes\"\n",
    "            current_dir = os.getcwd()\n",
    "            current_folder = os.path.basename(current_dir)\n",
    "            if f'./{current_folder}' == dest_dir:\n",
    "                print(f\"Estás dentro de {current_folder}. Saliendo...\")\n",
    "                os.chdir(\"..\") \n",
    "            \n",
    "            ejecutar_curl_desde_archivo(f\"tesscurl_sector_{sector_seleccionado}_ffic.sh\",inicio+i*porciclo, inicio+porciclo+porciclo*i)\n",
    "            print(f\"✅Descarga de las imagenes {inicio+i*porciclo} a la {inicio+porciclo+porciclo*i} Finalizada.\")\n",
    "            print(f\"Se ha descargado en total {(i+1)*porciclo} de {porciclo*ciclos} seleccionadas\\n\")\n",
    "            print(\"⏳Analizando las imagenes...\")\n",
    "            \n",
    "            result = subprocess.run(\"python phot4.py\", shell=True, capture_output=True, text=True)\n",
    "            import re\n",
    "            print(re.sub(r'\\n+', '\\n', result.stdout).strip())  # Reduce espacios en blanco\n",
    "            \n",
    "            print(result.stderr)\n",
    "            \n",
    "            shutil.rmtree(\"./imagenes\")\n",
    "            os.makedirs(\"./imagenes\", exist_ok=True)\n",
    "            print(\"\\n✅Imagenes borradas de la carpeta imagenes, proceso finalizado \")\n",
    "            guardar_checkpoint(inicio+porciclo*ciclos)\n",
    "            clear_output(wait=True)\n",
    "            \n",
    "    else:\n",
    "        print(f\"❌ Cancelado\")"
   ]
  },
  {
   "cell_type": "code",
   "execution_count": 338,
   "id": "27be6c7c",
   "metadata": {
    "editable": true,
    "slideshow": {
     "slide_type": ""
    },
    "tags": []
   },
   "outputs": [],
   "source": [
    "#Esto lo que hace es analizar los datos csv, y construir las dos listas con los datos a graficar\n",
    "def conteo_datos():\n",
    "    gaia_ids()\n",
    "    nombre_carpeta = \"csv_out\"\n",
    "    directorio = os.getcwd()\n",
    "    directorio= os.path.basename(directorio)\n",
    "    if not f'{directorio}' == nombre_carpeta:\n",
    "        os.chdir(\"./csv_out\")\n",
    "    fechas=[]\n",
    "    magnitudes=[]\n",
    "    #Proceso de iteración\n",
    "    for archivo in os.listdir(\"./\"):\n",
    "            with open(archivo, mode='r', newline='', encoding='utf-8') as archivo_csv:\n",
    "                lector = csv.reader(archivo_csv)\n",
    "                for fila in lector:\n",
    "                    if fila[0] == str(gaia_id) : #Definir id de simbad del objeto\n",
    "                        fechas.append(fila[5])\n",
    "                        magnitudes.append(float(fila[3]))\n",
    "    global tiempo\n",
    "    global magnitud\n",
    "    tiempo=fechas\n",
    "    magnitud=magnitudes\n",
    "    \n",
    "    print(f\"Datos agregados correctamente, actualmente se cuenta con {len(magnitudes)} datos\")\n",
    "    os.chdir(\"..\")"
   ]
  },
  {
   "cell_type": "code",
   "execution_count": 339,
   "id": "7df1795f",
   "metadata": {},
   "outputs": [],
   "source": [
    "#La gráfica no habria que mover nada aquí\n",
    "def curvadeluz(color):\n",
    "    global tiempo\n",
    "    global magnitud\n",
    "    \n",
    "    fechas_clean = [Time(f, format='isot', scale='utc').jd for f in tiempo]\n",
    "    fechas_clean_2 = [datetime.strptime(f, \"%Y-%m-%dT%H:%M:%S.%f\") for f in tiempo]\n",
    "    \n",
    "    flujos=[]\n",
    "    for i in magnitud:\n",
    "        flujos.append(10**((20.44-i)/2.5))\n",
    "    if color==\"dark\":\n",
    "        plt.rcParams.update({\n",
    "            'axes.facecolor': '#121212',  # Fondo del área del gráfico (gris oscuro)\n",
    "            'figure.facecolor': '#121212',  # Fondo de la figura (gris oscuro)\n",
    "            'font.family': 'Arial',  # Fuente\n",
    "            'font.size': 10 ,  # Tamaño de la fuente\n",
    "            'axes.labelcolor': 'white',  # Color de las etiquetas de los ejes (blanco)\n",
    "            'xtick.color': 'white',  # Color de las etiquetas en el eje X (blanco)\n",
    "            'ytick.color': 'white',  # Color de las etiquetas en el eje Y (blanco)\n",
    "            'axes.edgecolor': 'white',  # Color de los bordes del gráfico (blanco)\n",
    "            'grid.color': '#404040',  # Color de la cuadrícula (gris claro)\n",
    "            'grid.linestyle': '--',  # Estilo de la cuadrícula (líneas discontinuas)\n",
    "            'grid.alpha': 0.3,  # Transparencia de la cuadrícula (más suave)\n",
    "            'lines.color': 'cyan',  # Color de las líneas (cian brillante)\n",
    "            'lines.linewidth': 2,  # Ancho de las líneas\n",
    "            'axes.titlecolor': 'white',  # Color del título de los ejes (blanco)\n",
    "        })  \n",
    "        alto,ancho=4,8\n",
    "        plt.figure(figsize=(ancho, alto))  \n",
    "        plt.plot(fechas_clean[:], flujos[:], marker='o', linestyle='-', color=\"white\",markerfacecolor='none', linewidth=1)\n",
    "        plt.xlabel(\"Tiempo Juliano\",fontsize=10,labelpad=20)\n",
    "        plt.ylabel(\"Flujo\",fontsize=10,labelpad=20) \n",
    "        plt.title(f\"----------------Curva de luz para {object_name}----------------\".upper(), fontsize=10,pad=10)\n",
    "    \n",
    "        plt.show()\n",
    "    elif color==\"light\":\n",
    "        plt.rcParams.update({\n",
    "                'axes.facecolor': 'white',  # Fondo del área del gráfico (gris oscuro)\n",
    "                'figure.facecolor': 'white',  # Fondo de la figura (gris oscuro)\n",
    "                'font.family': 'Times New Roman',  # Fuente\n",
    "                'font.size': 12 ,  # Tamaño de la fuente\n",
    "                'axes.labelcolor': 'black',  # Color de las etiquetas de los ejes (blanco)\n",
    "                'xtick.color': 'gray',  # Color de las etiquetas en el eje X (blanco)\n",
    "                'ytick.color': 'gray',  # Color de las etiquetas en el eje Y (blanco)\n",
    "                'axes.edgecolor': 'black',  # Color de los bordes del gráfico (blanco)\n",
    "                'grid.color': '#404040',  # Color de la cuadrícula (gris claro)\n",
    "                'grid.linestyle': '--',  # Estilo de la cuadrícula (líneas discontinuas)\n",
    "                'grid.alpha': 0.3,  # Transparencia de la cuadrícula (más suave)\n",
    "                'lines.color': 'black',  # Color de las líneas (cian brillante)\n",
    "                'lines.linewidth': 2,  # Ancho de las líneas\n",
    "                'axes.titlecolor': 'black',  # Color del título de los ejes (blanco)\n",
    "            })\n",
    "        \n",
    "        alto,ancho=4,6\n",
    "        \n",
    "        plt.figure(figsize=(ancho, alto))  \n",
    "        plt.plot(fechas_clean[:], flujos[:], marker='o',markersize=3, linestyle='-', color=\"gray\",markerfacecolor='none',markeredgecolor=\"black\", linewidth=1)\n",
    "        plt.xlabel(\"Tiempo Juliano [días]\",fontsize=12,labelpad=5)\n",
    "        plt.ylabel(\"Flujo [e-/s]\",fontsize=12,labelpad=5) \n",
    "        plt.title(f\"Curva de luz para {object_name}\".upper(), fontsize=10,pad=10)\n",
    "        "
   ]
  },
  {
   "cell_type": "code",
   "execution_count": 340,
   "id": "f7ddcea0",
   "metadata": {},
   "outputs": [],
   "source": [
    "import math\n",
    "def redondear_con_incertidumbre(valor, incertidumbre):\n",
    "    orden_magnitud = math.floor(math.log10(abs(incertidumbre))) \n",
    "    factor = 10 ** orden_magnitud\n",
    "    incertidumbre_red = round(incertidumbre / factor) * factor \n",
    "    valor_red = round(valor / factor) * factor\n",
    "    return valor_red, incertidumbre_red\n",
    "    \n",
    "def periodograma(color):\n",
    "    fechas_clean = [Time(f, format='isot', scale='utc').jd for f in tiempo]\n",
    "    flujos=[]\n",
    "    for i in magnitud:\n",
    "            flujos.append(10**(-i/2.5))\n",
    "    time = np.array(fechas_clean) * u.day\n",
    "    flux = np.array(flujos)        \n",
    "    \n",
    "    min_period = 0.1 * u.day  \n",
    "    max_period = 10 * u.day  \n",
    "    frequency = np.linspace(1/max_period, 1/min_period, 20000)  \n",
    "    \n",
    "    ls = LombScargle(time, flux)\n",
    "    power = ls.power(frequency)\n",
    "    \n",
    "    best_frequency = frequency[np.argmax(power)]\n",
    "    best_period = 1 / best_frequency\n",
    "    periods=1/frequency\n",
    "    from scipy.signal import find_peaks\n",
    "    peaks, _ = find_peaks(power) \n",
    "    \n",
    "    # Ordenar los picos por altura para identificar el más grande y el segundo más grande\n",
    "    sorted_peaks = sorted(peaks, key=lambda x: power[x], reverse=True)\n",
    "    primary_period = periods[sorted_peaks[0]]     \n",
    "    # Buscar el segundo pico correspondiente a 2 * P/2 (el período orbital real)\n",
    "    secondary_period = None\n",
    "    for peak in sorted_peaks[1:]:\n",
    "        candidate_period = periods[peak]\n",
    "        # Si el candidato está aproximadamente en 2 * P/2, lo tomamos como el verdadero período\n",
    "        if np.isclose(candidate_period, 2 * primary_period, rtol=0.1):\n",
    "            secondary_period = candidate_period\n",
    "            break\n",
    "    if secondary_period is not None:\n",
    "        print(f\"Periodo real orbital: {secondary_period.value} días\")\n",
    "    else:\n",
    "        print(\"No se encontró un segundo pico claro que represente el período orbital.\")\n",
    "        \n",
    "    # Estimación de incertidumbre en período\n",
    "    secondary_power = power[sorted_peaks[1]]\n",
    "    half_max = secondary_power/ 2\n",
    "    above_half_max = np.where(power >= half_max)[0]\n",
    "    indices=[]\n",
    "    for i in range(len(above_half_max)):\n",
    "        if above_half_max[i+1]-above_half_max[i]==1:\n",
    "            indices.append(above_half_max[i])\n",
    "        else:\n",
    "            indices.append(above_half_max[i])\n",
    "            break\n",
    "    FWHM=1/frequency[indices[0]]-1/frequency[indices[-1]]\n",
    "    sigma_f = FWHM / 2.35  # Aproximando el pico como gaussiano\n",
    "    sigma_P = sigma_f / (secondary_period.value)**2\n",
    "    print(redondear_con_incertidumbre(secondary_period.value,sigma_P.value))\n",
    "    \n",
    "       \n",
    "    if color==\"dark\":\n",
    "        alto,ancho=4,8\n",
    "        plt.figure(figsize=(ancho, alto))  \n",
    "        plt.plot(1/frequency, power, marker='', linestyle='-', color=\"white\",markerfacecolor='none', linewidth=1)\n",
    "        plt.axvline(best_period.value, color=\"cyan\", linestyle=\"--\",linewidth=1)\n",
    "        plt.xlabel(\"Periodo en dias\",fontsize=10,labelpad=20)\n",
    "        #plt.xscale(\"log\")\n",
    "        plt.ylabel(\"Potencia\",fontsize=10,labelpad=20) \n",
    "        plt.title(f\"----------Periodograma Lomb-Scargle de {object_name}----------\".upper(), fontsize=10,pad=10)\n",
    "    elif color==\"light\":\n",
    "        import matplotlib.ticker as mticker\n",
    "        alto,ancho=4,6\n",
    "        plt.figure(figsize=(ancho, alto))  \n",
    "        plt.plot(1/frequency, power, marker='', linestyle='-', color=\"black\", linewidth=1)\n",
    "        plt.axvline(secondary_period.value, color=\"gray\", linestyle=\"--\",linewidth=1)\n",
    "        plt.axvline(best_period.value, color=\"gray\", linestyle=\"--\",linewidth=1)\n",
    "        plt.xlabel(\"Periodo orbital [días]\",fontsize=12,labelpad=5)\n",
    "        #plt.xscale(\"log\")\n",
    "        plt.ylabel(\"Potencia normalizada\",fontsize=12,labelpad=5) \n",
    "        plt.title(f\"Periodograma Lomb-Scargle de {object_name}\".upper(), fontsize=10,pad=10)\n",
    "        ax = plt.gca()  # Obtener el eje actual\n",
    "        ax.xaxis.set_major_locator(mticker.MultipleLocator(1))\n",
    "        # Añadir texto con los valores sobre la gráfica\n",
    "        plt.text(secondary_period.value*(1+0.08), max(power)*0.7, f\"{secondary_period:.2f}\", color='black', fontsize=10, ha='left')\n",
    "    \n",
    "    plt.show()\n",
    "    "
   ]
  },
  {
   "cell_type": "code",
   "execution_count": 341,
   "id": "4a8b50eb",
   "metadata": {},
   "outputs": [
    {
     "name": "stdin",
     "output_type": "stream",
     "text": [
      "Ingresa el nombre del objeto:  lambda tau\n",
      "Ingresa el radio de búsqueda en arcominutos:  10\n"
     ]
    }
   ],
   "source": [
    "#Obtención del Catálogo\n",
    "object_name = input(\"Ingresa el nombre del objeto: \")\n",
    "radius_arcmin = float(input(\"Ingresa el radio de búsqueda en arcominutos: \"))"
   ]
  },
  {
   "cell_type": "code",
   "execution_count": 342,
   "id": "e48a3cce",
   "metadata": {},
   "outputs": [
    {
     "name": "stdout",
     "output_type": "stream",
     "text": [
      "Coordenadas de lambda tau - RA: 60.1700698910475°, DEC: 12.49034444100722°\n",
      "Coordenadas de lambda tau - RA_HMS: 4:00:40.8167739, DEC_DMS: +12:29:25.239988\n",
      "INFO: Query finished. [astroquery.utils.tap.core]\n",
      "Se hallaron 497 objetos\n",
      "✅ Catálogo descargado\n"
     ]
    }
   ],
   "source": [
    "obtener_catalogo()"
   ]
  },
  {
   "cell_type": "code",
   "execution_count": 343,
   "id": "5a45e3f6",
   "metadata": {},
   "outputs": [
    {
     "data": {
      "text/plain": [
       "'C:\\\\Users\\\\XC-1509\\\\Desktop\\\\CDLDT'"
      ]
     },
     "execution_count": 343,
     "metadata": {},
     "output_type": "execute_result"
    }
   ],
   "source": [
    "#os.chdir(\"./Taller 3\")\n",
    "os.getcwd()"
   ]
  },
  {
   "cell_type": "code",
   "execution_count": 349,
   "id": "24ace2cd",
   "metadata": {},
   "outputs": [
    {
     "name": "stdout",
     "output_type": "stream",
     "text": [
      "Para el objeto lambda tau se tienen los sectores:\n",
      "\n",
      "  sectorName   sector camera ccd\n",
      "-------------- ------ ------ ---\n",
      "tess-s0005-1-4      5      1   4\n",
      "tess-s0032-1-4     32      1   4\n",
      "tess-s0042-4-3     42      4   3\n",
      "tess-s0043-3-2     43      3   2\n",
      "tess-s0044-1-1     44      1   1\n",
      "tess-s0070-4-2     70      4   2\n",
      "tess-s0071-2-4     71      2   4\n",
      "\n"
     ]
    },
    {
     "name": "stdin",
     "output_type": "stream",
     "text": [
      "Ingrese el sector a analizar: 5\n"
     ]
    },
    {
     "name": "stdout",
     "output_type": "stream",
     "text": [
      "✅ Archivo .sh del sector listo\n",
      "Es posible descargar 19137 imágenes del sector 5\n"
     ]
    }
   ],
   "source": [
    "Definir_sector()"
   ]
  },
  {
   "cell_type": "code",
   "execution_count": 351,
   "id": "44d5d788",
   "metadata": {},
   "outputs": [],
   "source": [
    "import pickle\n",
    "\n",
    "def guardar_checkpoint(valor, archivo=\"./checkpoint.pkl\"):\n",
    "    with open(archivo, \"wb\") as f:\n",
    "        pickle.dump(valor, f)\n",
    "    print(f\"✅Última imagen descargada: {valor}\")\n",
    "\n",
    "def cargar_checkpoint(archivo=\"checkpoint.pkl\"):\n",
    "    if os.path.exists(archivo):\n",
    "        with open(archivo, \"rb\") as f:\n",
    "            valor = pickle.load(f)\n",
    "        print(f\"📌Última imagen descargada: {valor}\")\n",
    "        return valor\n",
    "    else:\n",
    "        print(\"⚠️ No hay checkpoint guardado.\")\n",
    "        return None "
   ]
  },
  {
   "cell_type": "code",
   "execution_count": 355,
   "id": "633faec8",
   "metadata": {},
   "outputs": [
    {
     "name": "stdout",
     "output_type": "stream",
     "text": [
      "✅Descarga de las imagenes 9 a la 14 Finalizada.\n",
      "Se ha descargado en total 10 de 10 seleccionadas\n",
      "\n",
      "⏳Analizando las imagenes...\n",
      "Su carpeta contiene 5 archivos .fits\n",
      "No. 1: tess2018326122938-s0005-1-2-0125-s_ffic.fits\n",
      "          ....            \n",
      "No. 5: tess2018339102938-s0005-2-2-0125-s_ffic.fits\n",
      "Se obtuvieron 0 archivos .csv\n",
      "\n",
      "\n",
      "✅Imagenes borradas de la carpeta imagenes, proceso finalizado \n",
      "✅Última imagen descargada: 14\n"
     ]
    }
   ],
   "source": [
    "Descarga_y_analizis()"
   ]
  },
  {
   "cell_type": "code",
   "execution_count": 357,
   "id": "6c275c04",
   "metadata": {},
   "outputs": [
    {
     "name": "stdout",
     "output_type": "stream",
     "text": [
      "🔍 Gaia DR2 ID de lambda tau: 3305012316783145728\n",
      "Datos agregados correctamente, actualmente se cuenta con 1133 datos\n"
     ]
    }
   ],
   "source": [
    "conteo_datos()"
   ]
  },
  {
   "cell_type": "code",
   "execution_count": 358,
   "id": "b7e5c81d",
   "metadata": {},
   "outputs": [
    {
     "data": {
      "image/png": "[encoded data removed]",
      "text/plain": [
       "<Figure size 600x400 with 1 Axes>"
      ]
     },
     "metadata": {},
     "output_type": "display_data"
    }
   ],
   "source": [
    "curvadeluz(\"light\")"
   ]
  },
  {
   "cell_type": "code",
   "execution_count": 359,
   "id": "07aeb896",
   "metadata": {},
   "outputs": [
    {
     "name": "stdout",
     "output_type": "stream",
     "text": [
      "Periodo real orbital: 3.945431947759869 días\n",
      "(3.95, 0.01)\n"
     ]
    },
    {
     "data": {
      "image/png": "[encoded data removed]",
      "text/plain": [
       "<Figure size 600x400 with 1 Axes>"
      ]
     },
     "metadata": {},
     "output_type": "display_data"
    }
   ],
   "source": [
    "periodograma(\"light\")"
   ]
  },
  {
   "cell_type": "code",
   "execution_count": 367,
   "id": "3515f69a",
   "metadata": {},
   "outputs": [
    {
     "name": "stdout",
     "output_type": "stream",
     "text": [
      "✅ Conversión completa: Base_code_python.py\n"
     ]
    }
   ],
   "source": [
    "import nbconvert\n",
    "import nbformat\n",
    "from nbconvert import PythonExporter\n",
    "\n",
    "# Nombre del notebook a convertir\n",
    "notebook_path = \"Base_code.ipynb\"\n",
    "script_path = \"Base_code_python.py\"  # Nombre del archivo de salida\n",
    "\n",
    "# Cargar el notebook\n",
    "with open(notebook_path, \"r\", encoding=\"utf-8\") as f:\n",
    "    notebook = nbformat.read(f, as_version=4)\n",
    "\n",
    "# Convertir a código Python\n",
    "exporter = PythonExporter()\n",
    "script, _ = exporter.from_notebook_node(notebook)\n",
    "\n",
    "# Guardar el script en un archivo .py\n",
    "with open(script_path, \"w\", encoding=\"utf-8\") as f:\n",
    "    f.write(script)\n",
    "\n",
    "print(f\"✅ Conversión completa: {script_path}\")\n"
   ]
  },
  {
   "cell_type": "code",
   "execution_count": null,
   "id": "f3688e04",
   "metadata": {},
   "outputs": [],
   "source": []
  }
 ],
 "metadata": {
  "kernelspec": {
   "display_name": "Python 3 (ipykernel)",
   "language": "python",
   "name": "python3"
  },
  "language_info": {
   "codemirror_mode": {
    "name": "ipython",
    "version": 3
   },
   "file_extension": ".py",
   "mimetype": "text/x-python",
   "name": "python",
   "nbconvert_exporter": "python",
   "pygments_lexer": "ipython3",
   "version": "3.12.7"
  }
 },
 "nbformat": 4,
 "nbformat_minor": 5
}
